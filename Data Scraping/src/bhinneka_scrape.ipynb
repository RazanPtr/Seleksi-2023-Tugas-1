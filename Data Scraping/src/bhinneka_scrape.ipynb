{
 "cells": [
  {
   "cell_type": "markdown",
   "metadata": {},
   "source": [
    "## Laptop Bhinneka Web Scraper\n",
    "### Razan Aditya Putra (18221132)\n",
    "### Tugas Seleksi Calon Asisten Lab Basis Data"
   ]
  },
  {
   "cell_type": "markdown",
   "metadata": {},
   "source": [
    ":smiley:"
   ]
  },
  {
   "cell_type": "markdown",
   "metadata": {},
   "source": [
    "## Import Library Yang Diperlukan"
   ]
  },
  {
   "cell_type": "code",
   "execution_count": 7,
   "metadata": {},
   "outputs": [],
   "source": [
    "import os\n",
    "import time\n",
    "from selenium import webdriver\n",
    "from bs4 import BeautifulSoup\n",
    "import pandas as pd\n",
    "import matplotlib.pyplot as plt\n",
    "from selenium.webdriver.support.ui import WebDriverWait\n",
    "from selenium.webdriver.support import expected_conditions as EC\n",
    "from selenium.webdriver.common.by import By\n",
    "import json\n",
    "import requests"
   ]
  },
  {
   "cell_type": "markdown",
   "metadata": {},
   "source": [
    "## Main Program Untuk Memproses HTML Dari Website"
   ]
  },
  {
   "cell_type": "code",
   "execution_count": 28,
   "metadata": {},
   "outputs": [
    {
     "name": "stdout",
     "output_type": "stream",
     "text": [
      "processing data page 1\n",
      "processing data page 2\n",
      "processing data page 3\n",
      "processing data page 4\n",
      "processing data page 5\n",
      "processing data page 6\n",
      "processing data page 7\n",
      "processing data page 8\n",
      "processing data page 9\n",
      "processing data page 10\n",
      "processing data page 11\n",
      "processing data page 12\n",
      "processing data page 13\n",
      "processing data page 14\n",
      "processing data page 15\n",
      "processing data page 16\n",
      "processing data page 17\n",
      "processing data page 18\n",
      "processing data page 19\n",
      "processing data page 20\n",
      "processing data page 21\n",
      "processing data page 22\n",
      "processing data page 23\n",
      "processing data page 24\n",
      "processing data page 25\n",
      "processing data page 26\n",
      "processing data page 27\n",
      "processing data page 28\n",
      "processing data page 29\n",
      "processing data page 30\n",
      "processing data page 31\n",
      "processing data page 32\n",
      "processing data page 33\n",
      "processing data page 34\n",
      "processing data page 35\n",
      "processing data page 36\n",
      "processing data page 37\n",
      "processing data page 38\n",
      "processing data page 39\n",
      "processing data page 40\n"
     ]
    }
   ],
   "source": [
    "baseurl = 'https://www.bhinneka.com'\n",
    "url = 'https://www.bhinneka.com/jual?cari=laptop'\n",
    "headers = {'user-agent': 'Mozilla/5.0 (Windows NT 10.0; Win64; x64) AppleWebKit/537.36 (KHTML, like Gecko) Chrome/99.0.4844.74 Safari/537.36'}\n",
    "driver = webdriver.Chrome()\n",
    "driver.get(url)\n",
    "Data_Laptop_Bhinneka = []\n",
    "\n",
    "for i in range(40):\n",
    "    print(\"processing data page\", i+1)\n",
    "    WebDriverWait(driver, 5).until(EC.presence_of_element_located((By.CSS_SELECTOR, \"#__next\")))\n",
    "    time.sleep(1)\n",
    "\n",
    "    for j in range(12):\n",
    "        driver.execute_script(\"window.scrollBy(0, 250)\")\n",
    "        time.sleep(1)\n",
    "\n",
    "    driver.execute_script(\"window.scrollBy(50, 0)\")\n",
    "    time.sleep(1)\n",
    "    soup = BeautifulSoup (driver.page_source, \"lxml\")\n",
    "    for item in soup.findAll('div', class_='col css-mz9zn6'): \n",
    "        nama_produk = item.find('p', class_='css-194yrqz').text\n",
    "        harga = item.find('div', class_='price').text\n",
    "        cicilan = item.find('span', class_='extra').text\n",
    "        link_toko = item.find('a', href=True)\n",
    "        suburl = baseurl + link_toko['href']\n",
    "        driver.execute_script(\"window.open(arguments[0]);\", suburl)\n",
    "        driver.switch_to.window(driver.window_handles[1])\n",
    "        subsoup = BeautifulSoup(driver.page_source, 'lxml')\n",
    "        info_detail = []\n",
    "        try:\n",
    "            garansi = subsoup.find('div', class_='css-1vpacho').text\n",
    "            keunggulan = subsoup.find('div', class_='css-zmjj1a').text\n",
    "            spec = subsoup.find('table', class_='css-14oykdy').text\n",
    "            desc = subsoup.find('div', class_='css-116d6nl').text\n",
    "            estimate = subsoup.findAll('div', class_='css-1ksog4')[2].div.text\n",
    "            rate = subsoup.findAll('div', class_='totalRate')\n",
    "            for rating in rate:\n",
    "                star = rating.find('h4').text\n",
    "            more_detail = {\n",
    "                \"garansi\" : garansi,\n",
    "                \"keunggulan\" : keunggulan,\n",
    "                \"spesifikasi\" : spec,\n",
    "                \"deskripsi\" : desc,\n",
    "                \"estimasi\" : estimate,\n",
    "                \"rating\" : star,\n",
    "            }\n",
    "            info_detail.append(more_detail)\n",
    "            time.sleep(1)\n",
    "        except AttributeError:\n",
    "            pass\n",
    "        except IndexError:\n",
    "            pass\n",
    "        except ValueError:\n",
    "            pass\n",
    "        \n",
    "        for item2 in item.findAll('div', class_='merchant-info css-ejq1bh'):\n",
    "            lokasi = item2.findAll('span')[0].text\n",
    "            toko = item2.findAll('span')[1].text \n",
    "\n",
    "        data_laptop = {\n",
    "            \"nama_produk\" : nama_produk,\n",
    "            \"harga\" : harga,\n",
    "            \"cicilan\" : cicilan,\n",
    "            \"nama_toko\" : toko,\n",
    "            \"lokasi_toko\" : lokasi,\n",
    "            \"info_detail\" : info_detail,\n",
    "        }\n",
    "        Data_Laptop_Bhinneka.append(data_laptop)\n",
    "\n",
    "        driver.close()\n",
    "        driver.switch_to.window(driver.window_handles[0])\n",
    "\n",
    "    time.sleep(1)\n",
    "    driver.find_element(By.CSS_SELECTOR, \"button[data-testid^='next-button']\").click()\n",
    "    time.sleep(1)\n",
    "    driver.execute_script(\"window.scrollBy(0, -3000)\")\n",
    "    time.sleep(1)\n",
    "\n",
    "driver.quit()"
   ]
  },
  {
   "cell_type": "code",
   "execution_count": 9,
   "metadata": {},
   "outputs": [
    {
     "ename": "NameError",
     "evalue": "name 'Data_Laptop_Bhinneka' is not defined",
     "output_type": "error",
     "traceback": [
      "\u001b[1;31m---------------------------------------------------------------------------\u001b[0m",
      "\u001b[1;31mNameError\u001b[0m                                 Traceback (most recent call last)",
      "\u001b[1;32m~\\AppData\\Local\\Temp\\ipykernel_23388\\1430575161.py\u001b[0m in \u001b[0;36m<module>\u001b[1;34m\u001b[0m\n\u001b[0;32m      3\u001b[0m \u001b[0mfile_path\u001b[0m \u001b[1;33m=\u001b[0m \u001b[0mos\u001b[0m\u001b[1;33m.\u001b[0m\u001b[0mpath\u001b[0m\u001b[1;33m.\u001b[0m\u001b[0mjoin\u001b[0m\u001b[1;33m(\u001b[0m\u001b[0mpath\u001b[0m\u001b[1;33m,\u001b[0m \u001b[0mfile_name\u001b[0m\u001b[1;33m)\u001b[0m\u001b[1;33m\u001b[0m\u001b[1;33m\u001b[0m\u001b[0m\n\u001b[0;32m      4\u001b[0m \u001b[1;32mwith\u001b[0m \u001b[0mopen\u001b[0m\u001b[1;33m(\u001b[0m\u001b[0mfile_path\u001b[0m\u001b[1;33m,\u001b[0m \u001b[1;34m'w'\u001b[0m\u001b[1;33m,\u001b[0m \u001b[0mencoding\u001b[0m \u001b[1;33m=\u001b[0m \u001b[1;34m'utf-8'\u001b[0m\u001b[1;33m)\u001b[0m \u001b[1;32mas\u001b[0m \u001b[0mfile\u001b[0m\u001b[1;33m:\u001b[0m\u001b[1;33m\u001b[0m\u001b[1;33m\u001b[0m\u001b[0m\n\u001b[1;32m----> 5\u001b[1;33m     \u001b[0mjson\u001b[0m\u001b[1;33m.\u001b[0m\u001b[0mdump\u001b[0m\u001b[1;33m(\u001b[0m\u001b[0mData_Laptop_Bhinneka\u001b[0m\u001b[1;33m,\u001b[0m \u001b[0mfile\u001b[0m\u001b[1;33m,\u001b[0m \u001b[0mensure_ascii\u001b[0m \u001b[1;33m=\u001b[0m \u001b[1;32mFalse\u001b[0m\u001b[1;33m,\u001b[0m \u001b[0mindent\u001b[0m \u001b[1;33m=\u001b[0m \u001b[1;36m4\u001b[0m\u001b[1;33m)\u001b[0m\u001b[1;33m\u001b[0m\u001b[1;33m\u001b[0m\u001b[0m\n\u001b[0m\u001b[0;32m      6\u001b[0m \u001b[0mprint\u001b[0m\u001b[1;33m(\u001b[0m\u001b[1;34m\"Done exporting json file.\"\u001b[0m\u001b[1;33m)\u001b[0m\u001b[1;33m\u001b[0m\u001b[1;33m\u001b[0m\u001b[0m\n",
      "\u001b[1;31mNameError\u001b[0m: name 'Data_Laptop_Bhinneka' is not defined"
     ]
    }
   ],
   "source": [
    "path = 'C:\\Coding\\Python\\Seleksi-2023-Tugas-1\\Data Scraping\\data'\n",
    "file_name = 'Data_Laptop_Bhinneka.json'\n",
    "file_path = os.path.join(path, file_name)\n",
    "with open(file_path, 'w', encoding = 'utf-8') as file:\n",
    "    json.dump(Data_Laptop_Bhinneka, file, ensure_ascii = False, indent = 4)\n",
    "print(\"Done exporting json file.\")"
   ]
  },
  {
   "cell_type": "code",
   "execution_count": 4,
   "metadata": {},
   "outputs": [
    {
     "data": {
      "text/html": [
       "<div>\n",
       "<style scoped>\n",
       "    .dataframe tbody tr th:only-of-type {\n",
       "        vertical-align: middle;\n",
       "    }\n",
       "\n",
       "    .dataframe tbody tr th {\n",
       "        vertical-align: top;\n",
       "    }\n",
       "\n",
       "    .dataframe thead th {\n",
       "        text-align: right;\n",
       "    }\n",
       "</style>\n",
       "<table border=\"1\" class=\"dataframe\">\n",
       "  <thead>\n",
       "    <tr style=\"text-align: right;\">\n",
       "      <th></th>\n",
       "      <th>nama_produk</th>\n",
       "      <th>harga</th>\n",
       "      <th>cicilan</th>\n",
       "      <th>nama_toko</th>\n",
       "      <th>lokasi_toko</th>\n",
       "      <th>info_detail</th>\n",
       "    </tr>\n",
       "  </thead>\n",
       "  <tbody>\n",
       "    <tr>\n",
       "      <th>0</th>\n",
       "      <td>CORSAIR Memory Notebook 4GB DDR3L PC-12800 CMS...</td>\n",
       "      <td>Rp 449.500</td>\n",
       "      <td>Cicilan Rp 37.459/bln</td>\n",
       "      <td>Bhinneka</td>\n",
       "      <td>Tanjung Priok</td>\n",
       "      <td>[{'garansi': '3 Years Local Official Distribut...</td>\n",
       "    </tr>\n",
       "    <tr>\n",
       "      <th>1</th>\n",
       "      <td>Sewa Laptop Amanah Lenovo Legion 5 (Periode 1 ...</td>\n",
       "      <td>Rp 757.000</td>\n",
       "      <td>Cicilan Rp 63.084/bln</td>\n",
       "      <td>Amanah Sewa Laptop</td>\n",
       "      <td>Kebon Jeruk</td>\n",
       "      <td>[]</td>\n",
       "    </tr>\n",
       "    <tr>\n",
       "      <th>2</th>\n",
       "      <td>Sewa Laptop Amanah Dell Latitude E3340 (Period...</td>\n",
       "      <td>Rp 151.000</td>\n",
       "      <td>Cicilan Rp 12.584/bln</td>\n",
       "      <td>Amanah Sewa Laptop</td>\n",
       "      <td>Kebon Jeruk</td>\n",
       "      <td>[]</td>\n",
       "    </tr>\n",
       "    <tr>\n",
       "      <th>3</th>\n",
       "      <td>Sewa Laptop Amanah HP 820m G2 (Periode 1 Hari)</td>\n",
       "      <td>Rp 202.000</td>\n",
       "      <td>Cicilan Rp 16.834/bln</td>\n",
       "      <td>Amanah Sewa Laptop</td>\n",
       "      <td>Kebon Jeruk</td>\n",
       "      <td>[]</td>\n",
       "    </tr>\n",
       "    <tr>\n",
       "      <th>4</th>\n",
       "      <td>Sewa Laptop Amanah HP 9480 (Periode 1 Hari)</td>\n",
       "      <td>Rp 151.500</td>\n",
       "      <td>Cicilan Rp 12.625/bln</td>\n",
       "      <td>Amanah Sewa Laptop</td>\n",
       "      <td>Kebon Jeruk</td>\n",
       "      <td>[]</td>\n",
       "    </tr>\n",
       "    <tr>\n",
       "      <th>...</th>\n",
       "      <td>...</td>\n",
       "      <td>...</td>\n",
       "      <td>...</td>\n",
       "      <td>...</td>\n",
       "      <td>...</td>\n",
       "      <td>...</td>\n",
       "    </tr>\n",
       "    <tr>\n",
       "      <th>1595</th>\n",
       "      <td>GEARMAX GM1701 15.4 Inch Classic Fabric Laptop...</td>\n",
       "      <td>Rp 99.000</td>\n",
       "      <td>Cicilan Rp 8.250/bln</td>\n",
       "      <td>lacarla</td>\n",
       "      <td>Grogol Petamburan</td>\n",
       "      <td>[]</td>\n",
       "    </tr>\n",
       "    <tr>\n",
       "      <th>1596</th>\n",
       "      <td>EURCOOL EC-1990 Laptop Backpack Bag Ultra Thin...</td>\n",
       "      <td>Rp 575.000</td>\n",
       "      <td>Cicilan Rp 47.917/bln</td>\n",
       "      <td>lacarla</td>\n",
       "      <td>Grogol Petamburan</td>\n",
       "      <td>[]</td>\n",
       "    </tr>\n",
       "    <tr>\n",
       "      <th>1597</th>\n",
       "      <td>WIWU GM3909 11.6 Inch Slim Water Resistant Lap...</td>\n",
       "      <td>Rp 240.000</td>\n",
       "      <td>Cicilan Rp 20.000/bln</td>\n",
       "      <td>lacarla</td>\n",
       "      <td>Grogol Petamburan</td>\n",
       "      <td>[]</td>\n",
       "    </tr>\n",
       "    <tr>\n",
       "      <th>1598</th>\n",
       "      <td>GEARMAX GM4005 15.6 Inch Waterproof Oxford Lap...</td>\n",
       "      <td>Rp 139.000</td>\n",
       "      <td>Cicilan Rp 11.584/bln</td>\n",
       "      <td>lacarla</td>\n",
       "      <td>Grogol Petamburan</td>\n",
       "      <td>[]</td>\n",
       "    </tr>\n",
       "    <tr>\n",
       "      <th>1599</th>\n",
       "      <td>GEARMAX WIWU ROFI-1708MB15.4-15.4 Inch Laptop ...</td>\n",
       "      <td>Rp 225.000</td>\n",
       "      <td>Cicilan Rp 18.750/bln</td>\n",
       "      <td>lacarla</td>\n",
       "      <td>Grogol Petamburan</td>\n",
       "      <td>[]</td>\n",
       "    </tr>\n",
       "  </tbody>\n",
       "</table>\n",
       "<p>1600 rows × 6 columns</p>\n",
       "</div>"
      ],
      "text/plain": [
       "                                            nama_produk       harga  \\\n",
       "0     CORSAIR Memory Notebook 4GB DDR3L PC-12800 CMS...  Rp 449.500   \n",
       "1     Sewa Laptop Amanah Lenovo Legion 5 (Periode 1 ...  Rp 757.000   \n",
       "2     Sewa Laptop Amanah Dell Latitude E3340 (Period...  Rp 151.000   \n",
       "3        Sewa Laptop Amanah HP 820m G2 (Periode 1 Hari)  Rp 202.000   \n",
       "4           Sewa Laptop Amanah HP 9480 (Periode 1 Hari)  Rp 151.500   \n",
       "...                                                 ...         ...   \n",
       "1595  GEARMAX GM1701 15.4 Inch Classic Fabric Laptop...   Rp 99.000   \n",
       "1596  EURCOOL EC-1990 Laptop Backpack Bag Ultra Thin...  Rp 575.000   \n",
       "1597  WIWU GM3909 11.6 Inch Slim Water Resistant Lap...  Rp 240.000   \n",
       "1598  GEARMAX GM4005 15.6 Inch Waterproof Oxford Lap...  Rp 139.000   \n",
       "1599  GEARMAX WIWU ROFI-1708MB15.4-15.4 Inch Laptop ...  Rp 225.000   \n",
       "\n",
       "                    cicilan            nama_toko         lokasi_toko  \\\n",
       "0     Cicilan Rp 37.459/bln             Bhinneka       Tanjung Priok   \n",
       "1     Cicilan Rp 63.084/bln   Amanah Sewa Laptop         Kebon Jeruk   \n",
       "2     Cicilan Rp 12.584/bln   Amanah Sewa Laptop         Kebon Jeruk   \n",
       "3     Cicilan Rp 16.834/bln   Amanah Sewa Laptop         Kebon Jeruk   \n",
       "4     Cicilan Rp 12.625/bln   Amanah Sewa Laptop         Kebon Jeruk   \n",
       "...                     ...                  ...                 ...   \n",
       "1595   Cicilan Rp 8.250/bln              lacarla   Grogol Petamburan   \n",
       "1596  Cicilan Rp 47.917/bln              lacarla   Grogol Petamburan   \n",
       "1597  Cicilan Rp 20.000/bln              lacarla   Grogol Petamburan   \n",
       "1598  Cicilan Rp 11.584/bln              lacarla   Grogol Petamburan   \n",
       "1599  Cicilan Rp 18.750/bln              lacarla   Grogol Petamburan   \n",
       "\n",
       "                                            info_detail  \n",
       "0     [{'garansi': '3 Years Local Official Distribut...  \n",
       "1                                                    []  \n",
       "2                                                    []  \n",
       "3                                                    []  \n",
       "4                                                    []  \n",
       "...                                                 ...  \n",
       "1595                                                 []  \n",
       "1596                                                 []  \n",
       "1597                                                 []  \n",
       "1598                                                 []  \n",
       "1599                                                 []  \n",
       "\n",
       "[1600 rows x 6 columns]"
      ]
     },
     "execution_count": 4,
     "metadata": {},
     "output_type": "execute_result"
    }
   ],
   "source": [
    "data = pd.read_json('C:\\Coding\\Python\\Lab Basdat\\Data_Laptop_Bhinneka.json')\n",
    "data"
   ]
  },
  {
   "cell_type": "code",
   "execution_count": 37,
   "metadata": {},
   "outputs": [
    {
     "data": {
      "image/png": "[encoded data removed]",
      "text/plain": [
       "<Figure size 432x288 with 1 Axes>"
      ]
     },
     "metadata": {},
     "output_type": "display_data"
    }
   ],
   "source": [
    "data2 = data[\"nama_toko\"].value_counts()\n",
    "data3 = data2[data2 > 50]\n",
    "data3.plot(kind=\"pie\")\n",
    "plt.title('Persebaran Data Nama Toko (Jumlah > 50)')\n",
    "plt.show()"
   ]
  },
  {
   "cell_type": "code",
   "execution_count": 38,
   "metadata": {},
   "outputs": [
    {
     "data": {
      "image/png": "[encoded data removed]",
      "text/plain": [
       "<Figure size 432x288 with 1 Axes>"
      ]
     },
     "metadata": {},
     "output_type": "display_data"
    }
   ],
   "source": [
    "data2 = data[\"harga\"].value_counts()\n",
    "data3 = data2[data2 >= 10]\n",
    "data3.plot(kind=\"pie\")\n",
    "plt.title('Persebaran Data Harga(Jumlah >= 10)')\n",
    "plt.show()"
   ]
  },
  {
   "cell_type": "code",
   "execution_count": 47,
   "metadata": {},
   "outputs": [
    {
     "data": {
      "text/plain": [
       "<AxesSubplot:ylabel='lokasi_toko'>"
      ]
     },
     "execution_count": 47,
     "metadata": {},
     "output_type": "execute_result"
    },
    {
     "data": {
      "image/png": "[encoded data removed]",
      "text/plain": [
       "<Figure size 432x288 with 1 Axes>"
      ]
     },
     "metadata": {},
     "output_type": "display_data"
    }
   ],
   "source": [
    "data2 = data[\"lokasi_toko\"].value_counts()\n",
    "data3 = data2[data2 > 50]\n",
    "data3.plot(kind=\"pie\")"
   ]
  }
 ],
 "metadata": {
  "kernelspec": {
   "display_name": "Python 3.9.6 64-bit",
   "language": "python",
   "name": "python3"
  },
  "language_info": {
   "codemirror_mode": {
    "name": "ipython",
    "version": 3
   },
   "file_extension": ".py",
   "mimetype": "text/x-python",
   "name": "python",
   "nbconvert_exporter": "python",
   "pygments_lexer": "ipython3",
   "version": "3.9.6"
  },
  "orig_nbformat": 4,
  "vscode": {
   "interpreter": {
    "hash": "9d074972d95f27dee21c7bff9edb90539bff0f56afd519c475fb84013725b389"
   }
  }
 },
 "nbformat": 4,
 "nbformat_minor": 2
}
